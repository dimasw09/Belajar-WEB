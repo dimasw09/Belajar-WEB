{
  "nbformat": 4,
  "nbformat_minor": 0,
  "metadata": {
    "colab": {
      "provenance": [],
      "authorship_tag": "ABX9TyPbbOwb8lKLqCKHYmNs39f1",
      "include_colab_link": true
    },
    "kernelspec": {
      "name": "python3",
      "display_name": "Python 3"
    },
    "language_info": {
      "name": "python"
    }
  },
  "cells": [
    {
      "cell_type": "markdown",
      "metadata": {
        "id": "view-in-github",
        "colab_type": "text"
      },
      "source": [
        "<a href=\"https://colab.research.google.com/github/dimasw09/Belajar-WEB/blob/main/Diagnosa_penyakit_kucing.ipynb\" target=\"_parent\"><img src=\"https://colab.research.google.com/assets/colab-badge.svg\" alt=\"Open In Colab\"/></a>"
      ]
    },
    {
      "cell_type": "code",
      "execution_count": 5,
      "metadata": {
        "colab": {
          "base_uri": "https://localhost:8080/"
        },
        "id": "MII7hxqLbaam",
        "outputId": "476a48a6-d266-4a05-8e1b-a95a80f16e29"
      },
      "outputs": [
        {
          "output_type": "stream",
          "name": "stdout",
          "text": [
            "Gejala yang muncul pada kucing:  ['Nafsu makan berkurang', 'Jantung berdebar', 'Bengkak pada mata']\n",
            "Diagnosis penyakit pada kucing:  Penyakit Kucing ke 1\n"
          ]
        },
        {
          "output_type": "stream",
          "name": "stderr",
          "text": [
            "/usr/local/lib/python3.10/dist-packages/sklearn/feature_extraction/text.py:528: UserWarning: The parameter 'token_pattern' will not be used since 'tokenizer' is not None'\n",
            "  warnings.warn(\n"
          ]
        }
      ],
      "source": [
        "import random\n",
        "from sklearn.naive_bayes import MultinomialNB\n",
        "from sklearn.preprocessing import LabelEncoder\n",
        "from sklearn.feature_extraction.text import CountVectorizer\n",
        "\n",
        "# Dataset gejala penyakit pada kucing dan label penyakit\n",
        "dataset = [\n",
        "    (['Demam', 'Batuk', 'Bersin', 'Hidung berair', 'Mata merah', 'Mata berair', 'Bengkak pada mata',\n",
        "      'Mata mengeluarkan nanah', 'Diare', 'Muntah', 'Nafsu makan berkurang', 'Berat badan turun',\n",
        "      'Dehidrasi', 'Lemah', 'Lesu', 'Sering menjilat diri', 'Rambut rontok', 'Kulit gatal',\n",
        "      'Luka pada kulit', 'Bintik-bintik merah pada kulit', 'Perubahan perilaku', 'Kejang',\n",
        "      'Gangguan buang air kecil', 'Kencing berdarah', 'Kencing jarang', 'Kencing tidak teratur',\n",
        "      'Sulit buang air besar', 'Buang air besar berdarah', 'Pembengkakan pada tubuh', 'Sakit perut',\n",
        "      'Sakit punggung', 'Sakit tulang', 'Sering menjilat genital', 'Keputihan pada betina',\n",
        "      'Telinga berair', 'Telinga gatal', 'Telinga berbau', 'Napas cepat', 'Sesak napas',\n",
        "      'Batuk berdahak', 'Bintik-bintik putih pada kotoran', 'Mencium bau busuk dari mulut',\n",
        "      'Gigi tanggal', 'Nyeri saat makan', 'Bengkak pada gusi', 'Gusi berdarah', 'Gigi berlubang',\n",
        "      'Keringat berlebihan', 'Jantung berdebar', 'Merasa lesu dan tidak aktif'], 'Penyakit Kucing ke 1'),\n",
        "    (['Diare', 'Nafsu makan berkurang', 'Lemah', 'Berat badan turun', 'Dehidrasi'], 'Penyakit Kucing ke 2'),\n",
        "    (['Batuk', 'Bersin', 'Hidung berair', 'Demam', 'Mata berair', 'Mata merah'], 'Penyakit Kucing ke 3'),\n",
        "    # Tambahkan definisi dataset untuk penyakit lainnya...\n",
        "]\n",
        "\n",
        "# Mengubah dataset menjadi data training\n",
        "symptoms = []\n",
        "labels = []\n",
        "for data in dataset:\n",
        "    symptoms.append(' '.join(data[0]))\n",
        "    labels.append(data[1])\n",
        "\n",
        "# Menggunakan LabelEncoder untuk mengubah label menjadi angka\n",
        "label_encoder = LabelEncoder()\n",
        "labels_encoded = label_encoder.fit_transform(labels)\n",
        "\n",
        "# Membangun model klasifikasi Naive Bayes\n",
        "vectorizer = CountVectorizer(tokenizer=lambda x: x, lowercase=False)\n",
        "symptoms_vectorized = vectorizer.fit_transform(symptoms)\n",
        "model = MultinomialNB()\n",
        "model.fit(symptoms_vectorized, labels_encoded)\n",
        "\n",
        "# Fungsi untuk melakukan diagnosa\n",
        "def diagnose(symptoms):\n",
        "    symptoms_vectorized = vectorizer.transform([symptoms])\n",
        "    prediction = model.predict(symptoms_vectorized)\n",
        "    predicted_label = label_encoder.inverse_transform(prediction)\n",
        "    return predicted_label[0]\n",
        "\n",
        "# Contoh penggunaan\n",
        "random_symptoms = random.sample(dataset[0][0], random.randint(1, 5))\n",
        "print(\"Gejala yang muncul pada kucing: \", random_symptoms)\n",
        "diagnosis = diagnose(random_symptoms)\n",
        "print(\"Diagnosis penyakit pada kucing: \", diagnosis)\n"
      ]
    }
  ]
}